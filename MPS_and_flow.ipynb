{
  "cells": [
    {
      "cell_type": "markdown",
      "metadata": {
        "collapsed": true,
        "pycharm": {}
      },
      "source": [
        "# Creating a training dataset for training Generative Adversarial Networks for emulating GW Flow Simulations"
      ]
    },
    {
      "cell_type": "code",
      "execution_count": 4,
      "metadata": {
        "pycharm": {
          "is_executing": false
        }
      },
      "outputs": [
        {
          "name": "stdout",
          "text": [
            "flopy is installed in /home/local/UNINE.CH/dagasany/anaconda3/envs/flowSimul/lib/python3.7/site-packages/flopy\n"
          ],
          "output_type": "stream"
        }
      ],
      "source": "# import \nimport numpy as np\nimport os \n# import sys\n# sys.path.insert(0, \u0027../\u0027)\nimport matplotlib.pyplot as plt\n\n# import from package \u0027geone\u0027\nfrom geone import img\nimport geone.imgplot as imgplt\nimport geone.customcolors as ccol\nimport geone.deesseinterface as dsi\nfrom geone.deesse_core.deesse import MPDS_MISSING_VALUE # constant for missing value\n\n# import flopy stuff\nimport flopy\nimport flopy.utils.binaryfile as bf\n\n# import the custom functions\nimport func.flowSimforReals as fwReal\nimport func.flowSimforTrue as fwTrue\n\n"
    },
    {
      "cell_type": "code",
      "execution_count": 5,
      "metadata": {
        "pycharm": {
          "is_executing": false
        }
      },
      "outputs": [],
      "source": "# Read the TI (Img Class)\nti_filename \u003d \u0027data/ti_strebelle_K.gslib\u0027\nti \u003d img.readImageGslib(ti_filename, missing_value\u003dMPDS_MISSING_VALUE)"
    },
    {
      "cell_type": "code",
      "execution_count": 6,
      "outputs": [
        {
          "data": {
            "text/plain": "\u003cFigure size 360x360 with 2 Axes\u003e",
            "image/png": "[encoded data removed]"
          },
          "metadata": {
            "needs_background": "light"
          },
          "output_type": "display_data"
        }
      ],
      "source": "col \u003d [\u0027lightblue\u0027, [x/255. for x in ( 65, 141, 235)], \u0027orange\u0027]\n\nplt.figure(figsize\u003d(5,5))\nimgplt.drawImage2D(ti, categ\u003dTrue, categCol\u003dcol, title\u003d\u0027TI\u0027)",
      "metadata": {
        "pycharm": {
          "metadata": false,
          "name": "#%%\n",
          "is_executing": false
        }
      }
    },
    {
      "cell_type": "code",
      "execution_count": 7,
      "outputs": [],
      "source": "# Set input for deesse\n# --------------------\n# DeeSse input parameters to create the true K field\ndeesse_input_true \u003d dsi.DeesseInput(\n    nx\u003d128,ny\u003d128,nz\u003d1,nv\u003d1,varname\u003d\u0027facies\u0027,\n    nTI\u003d1,TI\u003dti,\n    searchNeighborhoodParameters\u003ddsi.SearchNeighborhoodParameters(rx\u003d40.,ry\u003d40.),\n    nneighboringNode\u003d30,\n    distanceThreshold\u003d0.02,\n    maxScanFraction\u003d0.25,\n    npostProcessingPathMax\u003d1,\n    seed\u003d1234,\n    nrealization\u003d20)",
      "metadata": {
        "pycharm": {
          "metadata": false,
          "name": "#%%\n",
          "is_executing": false
        }
      }
    },
    {
      "cell_type": "code",
      "execution_count": 8,
      "outputs": [],
      "source": "# DeeSse input parameters to create the realisations for training the ML\ndeesse_input_realisations \u003d dsi.DeesseInput(\n    nx\u003d128,ny\u003d128,nz\u003d1,nv\u003d1,varname\u003d\u0027facies\u0027,\n    nTI\u003d1,TI\u003dti,\n    searchNeighborhoodParameters\u003ddsi.SearchNeighborhoodParameters(rx\u003d40.,ry\u003d40.),\n    nneighboringNode\u003d30,\n    distanceThreshold\u003d0.02,\n    maxScanFraction\u003d0.25,\n    npostProcessingPathMax\u003d1,\n    seed\u003d444,\n    nrealization\u003d10000)\n",
      "metadata": {
        "pycharm": {
          "metadata": false,
          "name": "#%%\n",
          "is_executing": false
        }
      }
    },
    {
      "cell_type": "code",
      "execution_count": 9,
      "outputs": [],
      "source": "# Do deesse simulations to generate the true field and the realisations of it\n# --------------------\ndoSimul\u003dFalse\n\nif doSimul:\n    # create the candidate true K field realisations to choose as the ground truth\n    trueKList \u003d dsi.deesseRun(deesse_input_true)\n    trueK     \u003d img.gatherImages(trueKList)\n    # Do deesse simulation to generate the realisations using the TI\n    simKList  \u003d dsi.deesseRun(deesse_input_realisations)\n    simK      \u003d img.gatherImages(simKList)\n    # Write the simulations and true field in GSLIB files\n    img.writeImageGslib(trueK,filename\u003d (\"results/GSLIB/128*128/trueK.gslib\"))\n    img.writeImageGslib(simK,filename\u003d (\"results/GSLIB/128*128/simK.gslib\"))\nelse:\n    # Import the fields\n    trueK_filename \u003d \u0027results/GSLIB/trueK.gslib\u0027\n    simK_filename  \u003d \u0027results/GSLIB/simK.gslib\u0027\n    trueK \u003d img.readImageGslib(trueK_filename, missing_value\u003dMPDS_MISSING_VALUE)\n    simK  \u003d img.readImageGslib(simK_filename, missing_value\u003dMPDS_MISSING_VALUE)\n",
      "metadata": {
        "pycharm": {
          "metadata": false,
          "name": "#%%\n",
          "is_executing": false
        }
      }
    },
    {
      "cell_type": "markdown",
      "source": "##  Set up the flow simulations using MODFLOW\n",
      "metadata": {
        "pycharm": {
          "metadata": false
        }
      }
    },
    {
      "cell_type": "code",
      "execution_count": 11,
      "outputs": [
        {
          "traceback": [
            "\u001b[0;31m---------------------------------------------------------------------------\u001b[0m",
            "\u001b[0;31mException\u001b[0m                                 Traceback (most recent call last)",
            "\u001b[0;32m\u003cipython-input-11-3278e8f8afd3\u003e\u001b[0m in \u001b[0;36m\u003cmodule\u003e\u001b[0;34m\u001b[0m\n\u001b[1;32m     52\u001b[0m \u001b[0;34m\u001b[0m\u001b[0m\n\u001b[1;32m     53\u001b[0m \u001b[0;31m# Add LPF (Layer Property Flow) package to the MODFLOW model\u001b[0m\u001b[0;34m\u001b[0m\u001b[0;34m\u001b[0m\u001b[0;34m\u001b[0m\u001b[0m\n\u001b[0;32m---\u003e 54\u001b[0;31m \u001b[0mlpf_trueK\u001b[0m \u001b[0;34m\u003d\u001b[0m \u001b[0mflopy\u001b[0m\u001b[0;34m.\u001b[0m\u001b[0mmodflow\u001b[0m\u001b[0;34m.\u001b[0m\u001b[0mModflowLpf\u001b[0m\u001b[0;34m(\u001b[0m\u001b[0mmf_trueK\u001b[0m\u001b[0;34m,\u001b[0m \u001b[0mhk\u001b[0m\u001b[0;34m\u003d\u001b[0m\u001b[0mtrueK\u001b[0m\u001b[0;34m.\u001b[0m\u001b[0mval\u001b[0m\u001b[0;34m[\u001b[0m\u001b[0mtrueKindex\u001b[0m\u001b[0;34m,\u001b[0m\u001b[0;34m:\u001b[0m\u001b[0;34m,\u001b[0m\u001b[0;34m:\u001b[0m\u001b[0;34m,\u001b[0m\u001b[0;34m:\u001b[0m\u001b[0;34m]\u001b[0m\u001b[0;34m,\u001b[0m \u001b[0mvka\u001b[0m\u001b[0;34m\u003d\u001b[0m\u001b[0;36m0.\u001b[0m\u001b[0;34m,\u001b[0m \u001b[0mipakcb\u001b[0m\u001b[0;34m\u003d\u001b[0m\u001b[0;36m53\u001b[0m\u001b[0;34m)\u001b[0m\u001b[0;34m\u001b[0m\u001b[0;34m\u001b[0m\u001b[0m\n\u001b[0m\u001b[1;32m     55\u001b[0m \u001b[0mlpf_simK\u001b[0m  \u001b[0;34m\u003d\u001b[0m \u001b[0mflopy\u001b[0m\u001b[0;34m.\u001b[0m\u001b[0mmodflow\u001b[0m\u001b[0;34m.\u001b[0m\u001b[0mModflowLpf\u001b[0m\u001b[0;34m(\u001b[0m\u001b[0mmf_simK\u001b[0m\u001b[0;34m,\u001b[0m \u001b[0mhk\u001b[0m\u001b[0;34m\u003d\u001b[0m\u001b[0msimK\u001b[0m\u001b[0;34m.\u001b[0m\u001b[0mval\u001b[0m\u001b[0;34m[\u001b[0m\u001b[0mtrueKindex\u001b[0m\u001b[0;34m,\u001b[0m\u001b[0;34m:\u001b[0m\u001b[0;34m,\u001b[0m\u001b[0;34m:\u001b[0m\u001b[0;34m,\u001b[0m\u001b[0;34m:\u001b[0m\u001b[0;34m]\u001b[0m\u001b[0;34m,\u001b[0m \u001b[0mvka\u001b[0m\u001b[0;34m\u003d\u001b[0m\u001b[0;36m0.\u001b[0m\u001b[0;34m,\u001b[0m \u001b[0mipakcb\u001b[0m\u001b[0;34m\u003d\u001b[0m\u001b[0;36m53\u001b[0m\u001b[0;34m)\u001b[0m\u001b[0;34m\u001b[0m\u001b[0;34m\u001b[0m\u001b[0m\n\u001b[1;32m     56\u001b[0m \u001b[0;34m\u001b[0m\u001b[0m\n",
            "\u001b[0;32m~/anaconda3/envs/flowSimul/lib/python3.7/site-packages/flopy/modflow/mflpf.py\u001b[0m in \u001b[0;36m__init__\u001b[0;34m(self, model, laytyp, layavg, chani, layvka, laywet, ipakcb, hdry, iwdflg, wetfct, iwetit, ihdwet, hk, hani, vka, ss, sy, vkcb, wetdry, storagecoefficient, constantcv, thickstrt, nocvcorrection, novfc, extension, unitnumber, filenames)\u001b[0m\n\u001b[1;32m    250\u001b[0m         \u001b[0;32mif\u001b[0m \u001b[0mnovfc\u001b[0m\u001b[0;34m:\u001b[0m \u001b[0mself\u001b[0m\u001b[0;34m.\u001b[0m\u001b[0moptions\u001b[0m \u001b[0;34m\u003d\u001b[0m \u001b[0mself\u001b[0m\u001b[0;34m.\u001b[0m\u001b[0moptions\u001b[0m \u001b[0;34m+\u001b[0m \u001b[0;34m\u0027NOVFC \u0027\u001b[0m\u001b[0;34m\u001b[0m\u001b[0;34m\u001b[0m\u001b[0m\n\u001b[1;32m    251\u001b[0m         self.hk \u003d Util3d(model, (nlay, nrow, ncol), np.float32, hk, name\u003d\u0027hk\u0027,\n\u001b[0;32m--\u003e 252\u001b[0;31m                          locat\u003dself.unit_number[0])\n\u001b[0m\u001b[1;32m    253\u001b[0m         self.hani \u003d Util3d(model, (nlay, nrow, ncol), np.float32, hani,\n\u001b[1;32m    254\u001b[0m                            name\u003d\u0027hani\u0027, locat\u003dself.unit_number[0])\n",
            "\u001b[0;32m~/anaconda3/envs/flowSimul/lib/python3.7/site-packages/flopy/utils/util_array.py\u001b[0m in \u001b[0;36m__init__\u001b[0;34m(self, model, shape, dtype, value, name, fmtin, cnstnt, iprn, locat, ext_unit_dict, array_free_format)\u001b[0m\n\u001b[1;32m    560\u001b[0m                     \u001b[0mappend\u001b[0m\u001b[0;34m(\u001b[0m\u001b[0mself\u001b[0m\u001b[0;34m.\u001b[0m\u001b[0mname_base\u001b[0m\u001b[0;34m[\u001b[0m\u001b[0mk\u001b[0m\u001b[0;34m]\u001b[0m\u001b[0;34m.\u001b[0m\u001b[0mreplace\u001b[0m\u001b[0;34m(\u001b[0m\u001b[0;34m\u0027 \u0027\u001b[0m\u001b[0;34m,\u001b[0m \u001b[0;34m\u0027_\u0027\u001b[0m\u001b[0;34m)\u001b[0m\u001b[0;34m)\u001b[0m\u001b[0;34m\u001b[0m\u001b[0;34m\u001b[0m\u001b[0m\n\u001b[1;32m    561\u001b[0m \u001b[0;34m\u001b[0m\u001b[0m\n\u001b[0;32m--\u003e 562\u001b[0;31m         \u001b[0mself\u001b[0m\u001b[0;34m.\u001b[0m\u001b[0mutil_2ds\u001b[0m \u001b[0;34m\u003d\u001b[0m \u001b[0mself\u001b[0m\u001b[0;34m.\u001b[0m\u001b[0mbuild_2d_instances\u001b[0m\u001b[0;34m(\u001b[0m\u001b[0;34m)\u001b[0m\u001b[0;34m\u001b[0m\u001b[0;34m\u001b[0m\u001b[0m\n\u001b[0m\u001b[1;32m    563\u001b[0m \u001b[0;34m\u001b[0m\u001b[0m\n\u001b[1;32m    564\u001b[0m     \u001b[0;32mdef\u001b[0m \u001b[0m__setitem__\u001b[0m\u001b[0;34m(\u001b[0m\u001b[0mself\u001b[0m\u001b[0;34m,\u001b[0m \u001b[0mk\u001b[0m\u001b[0;34m,\u001b[0m \u001b[0mvalue\u001b[0m\u001b[0;34m)\u001b[0m\u001b[0;34m:\u001b[0m\u001b[0;34m\u001b[0m\u001b[0;34m\u001b[0m\u001b[0m\n",
            "\u001b[0;32m~/anaconda3/envs/flowSimul/lib/python3.7/site-packages/flopy/utils/util_array.py\u001b[0m in \u001b[0;36mbuild_2d_instances\u001b[0;34m(self)\u001b[0m\n\u001b[1;32m    837\u001b[0m                              \u001b[0mext_filename\u001b[0m\u001b[0;34m\u003d\u001b[0m\u001b[0mext_filename\u001b[0m\u001b[0;34m,\u001b[0m\u001b[0;34m\u001b[0m\u001b[0;34m\u001b[0m\u001b[0m\n\u001b[1;32m    838\u001b[0m                              \u001b[0mlocat\u001b[0m\u001b[0;34m\u003d\u001b[0m\u001b[0mself\u001b[0m\u001b[0;34m.\u001b[0m\u001b[0mlocat\u001b[0m\u001b[0;34m,\u001b[0m\u001b[0;34m\u001b[0m\u001b[0;34m\u001b[0m\u001b[0m\n\u001b[0;32m--\u003e 839\u001b[0;31m                              array_free_format\u003dself.array_free_format)\n\u001b[0m\u001b[1;32m    840\u001b[0m                 \u001b[0mu2ds\u001b[0m\u001b[0;34m.\u001b[0m\u001b[0mappend\u001b[0m\u001b[0;34m(\u001b[0m\u001b[0mu2d\u001b[0m\u001b[0;34m)\u001b[0m\u001b[0;34m\u001b[0m\u001b[0;34m\u001b[0m\u001b[0m\n\u001b[1;32m    841\u001b[0m \u001b[0;34m\u001b[0m\u001b[0m\n",
            "\u001b[0;32m~/anaconda3/envs/flowSimul/lib/python3.7/site-packages/flopy/utils/util_array.py\u001b[0m in \u001b[0;36m__init__\u001b[0;34m(self, model, shape, dtype, value, name, fmtin, cnstnt, iprn, ext_filename, locat, bin, how, array_free_format)\u001b[0m\n\u001b[1;32m   1726\u001b[0m         \u001b[0mself\u001b[0m\u001b[0;34m.\u001b[0m\u001b[0m_name\u001b[0m \u001b[0;34m\u003d\u001b[0m \u001b[0mname\u001b[0m\u001b[0;34m\u001b[0m\u001b[0;34m\u001b[0m\u001b[0m\n\u001b[1;32m   1727\u001b[0m         \u001b[0mself\u001b[0m\u001b[0;34m.\u001b[0m\u001b[0mlocat\u001b[0m \u001b[0;34m\u003d\u001b[0m \u001b[0mlocat\u001b[0m\u001b[0;34m\u001b[0m\u001b[0;34m\u001b[0m\u001b[0m\n\u001b[0;32m-\u003e 1728\u001b[0;31m         \u001b[0mself\u001b[0m\u001b[0;34m.\u001b[0m\u001b[0mparse_value\u001b[0m\u001b[0;34m(\u001b[0m\u001b[0mvalue\u001b[0m\u001b[0;34m)\u001b[0m\u001b[0;34m\u001b[0m\u001b[0;34m\u001b[0m\u001b[0m\n\u001b[0m\u001b[1;32m   1729\u001b[0m         \u001b[0;32mif\u001b[0m \u001b[0mself\u001b[0m\u001b[0;34m.\u001b[0m\u001b[0mvtype\u001b[0m \u001b[0;34m\u003d\u003d\u001b[0m \u001b[0mstr\u001b[0m\u001b[0;34m:\u001b[0m\u001b[0;34m\u001b[0m\u001b[0;34m\u001b[0m\u001b[0m\n\u001b[1;32m   1730\u001b[0m             \u001b[0mfmtin\u001b[0m \u001b[0;34m\u003d\u001b[0m \u001b[0;34m\"(FREE)\"\u001b[0m\u001b[0;34m\u001b[0m\u001b[0;34m\u001b[0m\u001b[0m\n",
            "\u001b[0;32m~/anaconda3/envs/flowSimul/lib/python3.7/site-packages/flopy/utils/util_array.py\u001b[0m in \u001b[0;36mparse_value\u001b[0;34m(self, value)\u001b[0m\n\u001b[1;32m   2613\u001b[0m                 raise Exception(\u0027Util2d:self.shape: \u0027 + str(self.shape) +\n\u001b[1;32m   2614\u001b[0m                                 \u001b[0;34m\u0027 does not match value.shape: \u0027\u001b[0m \u001b[0;34m+\u001b[0m\u001b[0;34m\u001b[0m\u001b[0;34m\u001b[0m\u001b[0m\n\u001b[0;32m-\u003e 2615\u001b[0;31m                                 str(value.shape))\n\u001b[0m\u001b[1;32m   2616\u001b[0m             \u001b[0;32mif\u001b[0m \u001b[0mself\u001b[0m\u001b[0;34m.\u001b[0m\u001b[0m_dtype\u001b[0m \u001b[0;34m!\u003d\u001b[0m \u001b[0mvalue\u001b[0m\u001b[0;34m.\u001b[0m\u001b[0mdtype\u001b[0m\u001b[0;34m:\u001b[0m\u001b[0;34m\u001b[0m\u001b[0;34m\u001b[0m\u001b[0m\n\u001b[1;32m   2617\u001b[0m                 \u001b[0mvalue\u001b[0m \u001b[0;34m\u003d\u001b[0m \u001b[0mvalue\u001b[0m\u001b[0;34m.\u001b[0m\u001b[0mastype\u001b[0m\u001b[0;34m(\u001b[0m\u001b[0mself\u001b[0m\u001b[0;34m.\u001b[0m\u001b[0m_dtype\u001b[0m\u001b[0;34m)\u001b[0m\u001b[0;34m\u001b[0m\u001b[0;34m\u001b[0m\u001b[0m\n",
            "\u001b[0;31mException\u001b[0m: Util2d:self.shape: (128, 128) does not match value.shape: (100, 100)"
          ],
          "ename": "Exception",
          "evalue": "Util2d:self.shape: (128, 128) does not match value.shape: (100, 100)",
          "output_type": "error"
        }
      ],
      "source": "\n# Alternative \nmodel_ws_trueK \u003dos.path.join(\"modflow\", \"modflowFiles\")\nmodel_ws_simK  \u003dos.path.join(\"modflow\", \"modflowFiles\")\n\nmodelname_trueK \u003d \u0027true_flow\u0027\nmodelname_simK  \u003d \u0027sim_flow\u0027\n\nexe_name \u003d os.path.join(os.getcwd(), \u0027modflow/exeMF/mf2005\u0027)\n\nmf_trueK \u003d flopy.modflow.Modflow(modelname\u003dmodelname_trueK, exe_name\u003dexe_name,\n                                model_ws\u003dmodel_ws_trueK)\nmf_simK \u003d flopy.modflow.Modflow(modelname\u003dmodelname_simK, exe_name\u003dexe_name,\n                                 model_ws\u003dmodel_ws_simK)\n\ntrueKindex \u003d 4\n# --------------------\n# Model domain and grid definition\nLx   \u003d  128. # Length in x direction\nLy   \u003d  128. # Length in y direction \nztop \u003d  0.   # Top elevation of the layer\nzbot \u003d -50.  # Bottom elevation of the layer \nnlay \u003d  1    # number of layers \nnrow \u003d  128  # number of rows (number of grid nodes in y direction)\nncol \u003d  128  # number of columns (number of grid nodes in x direction)\nwcol \u003d  64   # x index for the well to discharge or recharge\nwrow \u003d  64   # y index for the well to discharge or recharge\n\ndelr \u003d Lx/ncol # Calculate the length of each grid ALONG the rows\ndelc \u003d Ly/nrow # Calculate the length of each grid ALONG the columns\ndelv \u003d (ztop - zbot) / nlay # Calculate the length of the grid along layers\nbotm \u003d np.linspace(ztop, zbot, nlay + 1) # Vector for Bottom and top Elevations\nwpt \u003d ((wcol+0.5)*delr, Lx - ((wrow + 0.5)*delr)) # Well location\n\n# Create the discretization object (grid)\ndis_trueK \u003d flopy.modflow.ModflowDis(mf_trueK, nlay, nrow, \n                                     ncol, delr\u003ddelr, delc\u003ddelc,\n                                     top\u003dztop, botm\u003dbotm[1])\ndis_simK \u003d flopy.modflow.ModflowDis(mf_simK, nlay, nrow,\n                                    ncol, delr\u003ddelr, delc\u003ddelc,\n                                    top\u003dztop, botm\u003dbotm[1])\n\n# Variables for the BAS (basic) package\nibound \u003d np.ones((nlay, nrow, ncol), dtype\u003dnp.int32) # Create an empty 1s array\nibound[:, :, 0]  \u003d -1 # Constant head values at the left boundary\nibound[:, :, -1] \u003d -1 # Constant head values at the right boundary\nstrt \u003d np.ones((nlay, nrow, ncol), dtype\u003dnp.float32) # Create an empty 1s array\nstrt[:, :, 0]  \u003d 1. # Boundary conditions: Head values at the left boundary\nstrt[:, :, -1] \u003d 0. # Boundary conditions: Head values at the right boundary\nbas_trueK \u003d flopy.modflow.ModflowBas(mf_trueK, ibound\u003dibound, strt\u003dstrt)\nbas_simK  \u003d flopy.modflow.ModflowBas(mf_simK, ibound\u003dibound, strt\u003dstrt)\n\n# Add LPF (Layer Property Flow) package to the MODFLOW model\nlpf_trueK \u003d flopy.modflow.ModflowLpf(mf_trueK, hk\u003dtrueK.val[trueKindex,:,:,:], vka\u003d0., ipakcb\u003d53)\nlpf_simK  \u003d flopy.modflow.ModflowLpf(mf_simK, hk\u003dsimK.val[trueKindex,:,:,:], vka\u003d0., ipakcb\u003d53)\n\n# Add the well package\n# Remember to use zero-based layer, row, column indices!\npumping_rate \u003d -0.003\nwel_sp \u003d [[0, wrow, wcol, pumping_rate]] # lay, row, col index, pumping rate\nstress_period_data \u003d {0: wel_sp} # define well stress period {period, well info dictionary}\nwel_trueK \u003d flopy.modflow.ModflowWel(mf_trueK, stress_period_data\u003dstress_period_data)\nwel_simK \u003d flopy.modflow.ModflowWel(mf_simK, stress_period_data\u003dstress_period_data)\n\n\n# Add OC (Output Control Option) package to the MODFLOW model\nspd \u003d {(0, 0): [\u0027print head\u0027, \u0027print budget\u0027, \u0027save head\u0027, \u0027save budget\u0027]}\noc_trueK \u003d flopy.modflow.ModflowOc(mf_trueK, stress_period_data\u003dspd, compact\u003dTrue)\noc_simK  \u003d flopy.modflow.ModflowOc(mf_simK, stress_period_data\u003dspd, compact\u003dTrue)\n\n# Add PCG (Preconditioned-Conj. Gradient Solver) package to the MODFLOW model\npcg_trueK \u003d flopy.modflow.ModflowPcg(mf_trueK) # Solver\npcg_simK \u003d flopy.modflow.ModflowPcg(mf_simK) # Solver\n\n# Write the MODFLOW model input files into the model directory\nmf_trueK.write_input()\nmf_simK.write_input()\n",
      "metadata": {
        "pycharm": {
          "metadata": false,
          "name": "#%%\n",
          "is_executing": false
        }
      }
    },
    {
      "cell_type": "markdown",
      "source": "##  Set up the flow simulations using MODFLOW\n",
      "metadata": {
        "pycharm": {
          "metadata": false
        }
      }
    },
    {
      "cell_type": "code",
      "execution_count": null,
      "outputs": [],
      "source": "# Run the MODFLOW model and check if the operation is successful\nif doSimul:\n    success_trueK, buff_trueK \u003d mf_trueK.run_model()\n    success_simK,  buff_simK \u003d mf_simK.run_model()\n\n\n",
      "metadata": {
        "pycharm": {
          "metadata": false,
          "name": "#%%\n",
          "is_executing": true
        }
      }
    }
  ],
  "metadata": {
    "kernelspec": {
      "name": "python3",
      "language": "python",
      "display_name": "Python 3"
    },
    "language_info": {
      "codemirror_mode": {
        "name": "ipython",
        "version": 2
      },
      "file_extension": ".py",
      "mimetype": "text/x-python",
      "name": "python",
      "nbconvert_exporter": "python",
      "pygments_lexer": "ipython2",
      "version": "2.7.6"
    }
  },
  "nbformat": 4,
  "nbformat_minor": 0
}