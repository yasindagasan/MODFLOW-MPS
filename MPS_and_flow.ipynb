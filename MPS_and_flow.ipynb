{
  "cells": [
    {
      "cell_type": "markdown",
      "metadata": {
        "collapsed": true,
        "pycharm": {}
      },
      "source": [
        "# Creating a training dataset for training Generative Adversarial Networks for emulating GW Flow Simulations"
      ]
    },
    {
      "cell_type": "code",
      "execution_count": 2,
      "metadata": {
        "pycharm": {
          "is_executing": false
        }
      },
      "outputs": [
        {
          "name": "stdout",
          "text": [
            "flopy is installed in /home/local/UNINE.CH/dagasany/anaconda3/envs/flowSimul/lib/python3.7/site-packages/flopy\n"
          ],
          "output_type": "stream"
        }
      ],
      "source": "# import \nimport numpy as np\nimport os \n# import sys\n# sys.path.insert(0, \u0027../\u0027)\nimport matplotlib.pyplot as plt\n\n# import from package \u0027geone\u0027\nfrom geone import img\nimport geone.imgplot as imgplt\nimport geone.customcolors as ccol\nimport geone.deesseinterface as dsi\nfrom geone.deesse_core.deesse import MPDS_MISSING_VALUE # constant for missing value\n\n# import flopy stuff\nimport flopy\nimport flopy.utils.binaryfile as bf\n\n# import the custom functions\nimport func.flowSimforReals as fwReal\nimport func.flowSimforTrue as fwTrue\n# SET THE ENVIRONMENTAL VARIABLE FOR THE ds license\nimport os\n# fix below environmental variable workaround permanently!\nos.environ[\u0027unine_LICENSE\u0027]\u003d\u0027/home/local/UNINE.CH/dagasany/Documents/PostDoc/Software/DeeSse_Python\u0027\n"
    },
    {
      "cell_type": "code",
      "execution_count": 3,
      "metadata": {
        "pycharm": {
          "is_executing": false
        }
      },
      "outputs": [],
      "source": "# Read the TI (Img Class)\nti_filename \u003d \u0027data/ti_strebelle_K.gslib\u0027\nti \u003d img.readImageGslib(ti_filename, missing_value\u003dMPDS_MISSING_VALUE)"
    },
    {
      "cell_type": "code",
      "execution_count": 4,
      "outputs": [
        {
          "data": {
            "text/plain": "\u003cFigure size 360x360 with 2 Axes\u003e",
            "image/png": "[encoded data removed]"
          },
          "metadata": {
            "needs_background": "light"
          },
          "output_type": "display_data"
        }
      ],
      "source": "col \u003d [\u0027lightblue\u0027, [x/255. for x in ( 65, 141, 235)], \u0027orange\u0027]\n\nplt.figure(figsize\u003d(5,5))\nimgplt.drawImage2D(ti, categ\u003dTrue, categCol\u003dcol, title\u003d\u0027TI\u0027)\n",
      "metadata": {
        "pycharm": {
          "metadata": false,
          "name": "#%%\n",
          "is_executing": false
        }
      }
    },
    {
      "cell_type": "markdown",
      "source": "##  Set up the DS parameters\n",
      "metadata": {
        "pycharm": {
          "metadata": false
        }
      }
    },
    {
      "cell_type": "code",
      "execution_count": 5,
      "outputs": [],
      "source": "# Set input for deesse\n# --------------------\n# DeeSse input parameters to create the true K field\ndeesse_input_true \u003d dsi.DeesseInput(\n    nx\u003d128,ny\u003d128,nz\u003d1,nv\u003d1,varname\u003d\u0027facies\u0027,\n    nTI\u003d1,TI\u003dti,\n    searchNeighborhoodParameters\u003ddsi.SearchNeighborhoodParameters(rx\u003d40.,ry\u003d40.),\n    nneighboringNode\u003d30,\n    distanceThreshold\u003d0.02,\n    maxScanFraction\u003d0.25,\n    npostProcessingPathMax\u003d1,\n    seed\u003d18,\n    nrealization\u003d1)\n",
      "metadata": {
        "pycharm": {
          "metadata": false,
          "name": "#%%\n",
          "is_executing": false
        }
      }
    },
    {
      "cell_type": "code",
      "execution_count": 6,
      "outputs": [],
      "source": "# DeeSse input parameters to create the realisations for training the ML\ndeesse_input_realisations \u003d dsi.DeesseInput(\n    nx\u003d128,ny\u003d128,nz\u003d1,nv\u003d1,varname\u003d\u0027facies\u0027,\n    nTI\u003d1,TI\u003dti,\n    searchNeighborhoodParameters\u003ddsi.SearchNeighborhoodParameters(rx\u003d40.,ry\u003d40.),\n    nneighboringNode\u003d30,\n    distanceThreshold\u003d0.02,\n    maxScanFraction\u003d0.25,\n    npostProcessingPathMax\u003d1,\n    seed\u003d444,\n    nrealization\u003d10000)",
      "metadata": {
        "pycharm": {
          "metadata": false,
          "name": "#%%\n",
          "is_executing": false
        }
      }
    },
    {
      "cell_type": "markdown",
      "source": "##  Reference parameter field\n",
      "metadata": {
        "pycharm": {
          "metadata": false
        }
      }
    },
    {
      "cell_type": "code",
      "execution_count": 7,
      "outputs": [
        {
          "name": "stdout",
          "text": [
            "********************************************************************************\nDEESSE VERSION 3.0 / BUILD NUMBER 20190110\n********************************************************************************\n",
            "DONE\n"
          ],
          "output_type": "stream"
        },
        {
          "data": {
            "text/plain": "\u003cFigure size 432x288 with 2 Axes\u003e",
            "image/png": "iVBORw0KGgoAAAANSUhEUgAAAUEAAAEICAYAAADBWUaVAAAABHNCSVQICAgIfAhkiAAAAAlwSFlzAAALEgAACxIB0t1+/AAAADl0RVh0U29mdHdhcmUAbWF0cGxvdGxpYiB2ZXJzaW9uIDMuMC4zLCBodHRwOi8vbWF0cGxvdGxpYi5vcmcvnQurowAAG7dJREFUeJzt3X/0HXV95/Hnq0kIoiUJCUlDwmmy8sMiW9RGhHXPlgWpwahhW9RQj4ttujnbNfVXLCR6Vnd7lnNCqyCeADYVyo+lBIi25BAKDZjaulsjwR/IDykRgoRNCBEIiAoJvPePmYs339zv93vvnZk7M3dej3Pu+d47d368vzNz3/P+zE9FBGZmTfUrZQdgZlYmJ0EzazQnQTNrNCdBM2s0J0EzazQnQTNrNCfBBpP0x5KelPRTSdPLjsesDPJ5gvUmaTswC3gZ+ClwO7A8In46znCTgOeAUyLi+0XHaVZVrgSHw3si4nXAm4A3A6u6GGYWcChwfz8TlDShn+HMqsZJcIhExC7gDpJkiKTJkj4v6cdps/fLkl4j6TjgoXSwZyV9Pe3/DZI2SXpa0kOS3t8at6SrJV0h6TZJLwD/cbTxp/2fJmmHpBWSdkvaKekP2sb3GklfkPSYpL2Svtk27CmS/q+kZyV9X9Jpg5h/1kxOgkNE0lzgLGBb2mk1cBxJUjwGmAN8NiL+FXhj2s/UiDhd0muBTcDfADOBJcDlkk5om8TvAxcCvwp8c7Txt/X/a8CUtPtS4DJJ09LvPg/8FvDvgCOA84FXJM0BNgL/K+3+KeCrko7MNHPMRhMRftX4BWwn2Rf4PBDAXcBUQMALwOvb+j0VeDR9Py/tf2L6+QPAP48Y918Cn0vfXw1c2/bdeOM/Dfh5a/xpt93AKSQb358DJ3X4fy4ArhvR7Q7gvLLntV/D+ZqYa0a1spwdEXdK+m2SSm4GcAhwGHCPpFZ/Akbbl/frwNskPdvWbSJwXdvnx9veH9nF+H8SEfvbPv8MeF0a36HAj0aJ432S3tPWbRKweZS4zTJxEhwiEfENSVeTNDV/l6TaemNEPNHF4I8D34iIM8eaRNv7PT2Ov90e4BfA64GRR6YfJ6kE/0uP4zTri/cJDp8vAmcC/xb4K+ASSTMBJM2R9M5RhrsVOE7ShyRNSl9vlfQbnXqOiFd6HP/IYa8CLpZ0lKQJkk6VNBn438B7JL0z7X5oepBlbm+zwaw7ToJDJiKeAq4lOUBxAclBkm9Jeg64Ezh+lOGeB36H5IDI/wN2ARcBk8eYXNfj7+BTwA+Au4Gn02n9SkQ8DiwGPg08RVIZ/ileV60gPlnazBrNW1czazQnQTNrNCdBM2s0J0Eza7RKnCd4+LQjYuaco8sOwzLavVfj9zRAM6f4oF+7H91/756I6Oryw+lvOD32vfD0uP09v+P7d0TEwszBlagSSXDmnKP586/eXnYYltGajZPKDuEAyxftKzuESvm9Nxz1WLf97nvhaRZ84s5x+9u84sgZmYKqgEokQauPqiU6s6ycBG1cdU18ecftynI4+cCImTWaK0EbVV0rwKJ0mh+uDuvPlaCZNZorQTuIK8DujZxXrgzrx5WgmTWaK0EDBlf9dVsp1bUa7TZuV4zV4STYcFVLfmP1X9fE2Enrf3EyLN+4zWFJV6WPTLyvrdtfSPqhpHsl/a2kqW3frZK0LX1k47h3GTYzK1M3leDVwBqSuxW3bAJWRcR+SReRPOz7gvTxjEtIHud4FHCnpOMi4uV8w7bxqqJuKoxBVFZ5Vjp5jqsqVeVYcbhKHIxxK8GI+CeS25+3d/uHtqeIfQtoPf9hMbAuIl6MiEdJbr1+co7xmpnlKo99gn8I3Ji+n0OSFFt2pN0OImkZsAxgxlEde7EOuq1gyqx0XMHko30Zep4WJ1MSlPQZYD9wfa/DRsRaYC3AMSee5HseDYE6/VBHi7UqzeSRfCClOH0nQUkfBt4NnBG/fFrTE0D7jQHnpt3MzCqpryQoaSFwPvDbEfGztq82AH8j6WKSAyPHAt/OHOUQqmrFMZ5hr0RG/n91XU7WvXGToKQbgNOAGZJ2AJ8jORo8GdgkCeBbEfFfI+J+STcBD5A0kz/iI8NmVmXjJsGIOLdD5yvH6P9C4MJegti9V6zZOGnoqgxXEfU33jo56GU82vSG7bczSJW6YqTXRFiVWxs1Jdn5h3awqhxg8Y0c+ucbKJhZo1WqEhzLIM+P81Y04fnQv+WL9pXaQvApNd1zJWhmjVa5SrAK+9eqEMOguFIoThVuG9akdblfrgTNrNEqVwnawVytDTefoF0uJ8EKc/JrpmG/oWzVuDlsZo3mSrBkrvasG+3riavCfLkSNLNGcyU4QK76LA+t9cgVYT4alQSLOm/Lyc3K4CZyPtwcNrNGq0QlOHNK5HY3jjyqMld2VjduIvfPlaCZNVolKsGxuCoz695Yv5fNKwYYSI24EjSzRnMSNLNGcxI0s0ZzEjSzRnMStAP4FAtrGidBM2u0yp8iY4PhCtCaykmwQYp4Yp/P47S6G7c5LOkqSbsl3dfW7QhJmyQ9nP6dlnaXpC9J2ibpXklvKTJ4M7OsuqkErwbWANe2dVsJ3BURqyWtTD9fAJwFHJu+3gZckf61khTdzG0fv6tCq6NxK8GI+Cfg6RGdFwPXpO+vAc5u635tJL4FTJU0O69gzczy1u8+wVkRsTN9vwuYlb6fAzze1t+OtNtORpC0DFgGMOOoOX2GYSP5AIdZbzIfGImIkBR9DLcWWAtwzIkn9Ty8HazsBDjW9N1Utqrq9zzBJ1vN3PTv7rT7E8DRbf3NTbuZmVVSv5XgBuA8YHX695a27sslrSM5ILK3rdk8qt17xZqNk4auWii7MrPh5Mc/5KubU2RuAP4FOF7SDklLSZLfmZIeBt6Rfga4DXgE2Ab8FfDfConazGpD0kJJD6Wnzq3s8P1kSTem32+RNC/tPl3SZkk/lbSmqPjGrQQj4txRvjqjQ78BfCRrUFXiai4frfnoqiSbftbHMtdhSROAy4AzSQ6U3i1pQ0Q80NbbUuCZiDhG0hLgIuADwC+A/w6cmL4K4WuHzaxIJwPbIuKRiHgJWEdyKl279lPu1gNnSFJEvBAR3yRJhoXxZXMduPorzjDu+y1KTdbDGZK2tn1em5750dLptLmRF1C82k9E7Je0F5gO7Ckg3oNUKgl2Wuh5/2DcLCvfyOXc9GVRk2Q3mj0RsaDsILJwc9jMitTNaXOv9iNpIjAF+MlAoqNilWAn420l+33eas23vrnopwIrYr416frjBq53dwPHSppPkuyWAL8/op/WKXf/ApwDfD09yDoQlU+CZlZf6T6+5cAdwATgqoi4X9KfAVsjYgNwJXCdpG0k9ylY0hpe0nbgcOAQSWcDvzPiyHJmtU+CDdyy9iTvyqrT+PJcBsO4v7Dp62hE3EZyDnF7t8+2vf8F8L5Rhp1XaHAMQRK0zgaZPEZOq+k/evA8qBMfGDGzRnMStNwtX7Qvt0q0bhXVmo2Tahdz0zkJmlmjeZ9gj4ra15Z39VCFAwzLF+3L5f/yCe79y2sZDDMnwXEM6ofX63TyOi+yTomlismwagmm07xpddu8YtDR1IObw2bWaI2vBKtUVfSiPe4s1UjR1dVY4+037qrchMGPExgOrgTNrNEqXwl6izq+fq+fblfm/rYq7ryvWjxWHFeCZtZolasEXfn1L4/9hIO8o0v7+POoZrNy9ddMlUqCToDVUsVTUlqyngfphGctbg6bWaNVqhK0/OR5y6tOTeSiTg/p9440ruysX64EzazRXAk2SJ6n0lhnVdx/amOrVBKsypUAlk2WpwbWLcl6fa2/TM1hSZ+QdL+k+yTdIOlQSfMlbZG0TdKNkg7JK1gzs7z1XQlKmgN8FDghIn4u6SaSB6S8C7gkItZJ+jKwFLii2/FW+bQM61/dKjxrjqwHRiYCr0mfFXoYsBM4HViffn8NcHbGaZiZFabvSjAinpD0eeDHwM+BfwDuAZ6NiP1pbzuAOZ2Gl7QMWAYwedrcg753RVicvO5A0zReF4dTlubwNGAxMB94FrgZWNjt8BGxFlgLcPjRbxrYg5btQEU/QrOunPCaI0tz+B3AoxHxVETsA74GvB2YmjaPAeaSPHXezKySspwi82PgFEmHkTSHzwC2ApuBc4B1wHnALVkC7LYq8ZbbsvI61Ex9V4IRsYXkAMh3gB+k41oLXAB8UtI2YDpwZQ5xmpkVItPJ0hHxOeBzIzo/ApycZbz9GOQtoIZdv9fv1onXEWvxtcNm1miVumzOqmkYTqlx5WejGcok2MsP1T+O3mSdX0UlUS9H65ebw2bWaENZCVp1dXtytis7GxRXgmbWaI2vBF2FlM/z28rkStDMGs1J0MwarRLN4ZlTolJXKfjqE7PmcCVoZo1WiUqwk2F9MI+ZVUtlk2C3qtSMNrP6cXPYzBqt9pXgSGM1o/upEkcO4wMl+RnkdcRejjYaV4Jm1mhDVwmOZfmifZmrjzUbJw19FdHNPPrgW3dw8Sf/mE9e8mWmHTkzl3HmpZtpjXYa1GjDDvsybzJXgtaXmy+/hAfv2cLNl19SdihmmTSqEoR89hkOyzOR+63OXnxuF99YfxMRwab1N/L8cX/K5MNn5Rzd4PRaObbUfflbwpWg9Wz7pi8Q8QoA8corbN/0hZIjKseajZNefVl9OQlaT158bhe7vr2OePklAOLll9h19w28+NyTJUdm1p/GNYfH0uuzNOrULM6rWmmvAlta1eDxv/fnuUyjjnwKTn05CVrXRlaBLa1qcN6ZK2q9b9B+qdNNTTrZvGIAwRTMSXAUdb8cr4h4O1WBLa4GD+Q7EdWHk2AOqrLCF5moR6sCWwZZDfYzj+u2EbPByXRgRNJUSesl/VDSg5JOlXSEpE2SHk7/TssrWCvPWFVgS5OPFFt9Za0ELwVuj4hzJB0CHAZ8GrgrIlZLWgmsBC7IOJ3SuIIYvwpsyaMaLKqS7vYpd0XzM7Grp+9KUNIU4D8AVwJExEsR8SywGLgm7e0a4OysQVq5uqkCW1wNWt1kqQTnA08Bfy3pJOAe4GPArIjYmfazC+hYEkhaBiwDmHHUnAxh5C9LhTCo/YODrGKe27513CqwJV5+iee2331Q9ypWNb3ElNc6kXW4Ks7HusuSBCcCbwH+JCK2SLqUpOn7qogISdFp4IhYC6wFOObEkzr2Y9Xw1hWbyw7BrDBZkuAOYEdEbEk/rydJgk9Kmh0ROyXNBnZnDbJIRVZUTbkjybD9P53kcQeiPFTlTIRh0ncSjIhdkh6XdHxEPAScATyQvs4DVqd/b8kl0hxUYSWG6sTRq6b/6PK+YW9WToj5yHp0+E+A69Mjw48Af0BysOUmSUuBx4D3Z5yGmVlhMiXBiPgesKDDV2dkGW8/6lpdlcnVw/Co03XsVeO7yJhZo9X+sjlXgN1xhdAM/j30rpZJ0Avaqqa1kfG6WT9uDptZo1W2EvQWtXdu8pr1zpWgmTVaJSrB3Xvlys8ar5tK3r+T/FUiCdbVeCvtoFdYX0FQnl6Xdb/LpyqX7w0TN4fNrNFcCXapny13mc8p8RUE1ZTH8qj782+qxpWgmTVaoyrBsqsin1A7HPpdfoN4dIDXrd65EjSzRhu6SrDsaq8bvcaY963d6zCPrD9ubfSu9kmwCT/ovE+LGGtcTZifvcgy38ucl06G3XNz2MwarZaVYBOrFZ8WUbw85mkT1826cyVoZo1Wq0rQW9lfKuryqfHGOYzLYJir6vbltXlFiYFUWG2S4DD++LLyzu/e5T2vvF7Wn5vDZtZolasEvWXt3SCfh9vN+PJehq50rUiuBM2s0SpRCc6cEq4AC1LGfsN+7mDjas/KUokkaMUr4waww5bYvKEeTpmbw5ImSPqupFvTz/MlbZG0TdKNkg7JHqaZWTHy2Cf4MeDBts8XAZdExDHAM8DSHKZhBVu+aN+rLzuY58vwypQEJc0FFgFfST8LOB1Yn/ZyDXB2lmmYmRUpayX4ReB84JX083Tg2YjYn37eAczpNKCkZZK2Stq695mfZAzDzKw/fSdBSe8GdkfEPf0MHxFrI2JBRCyYMm16v2GYmWWS5ejw24H3SnoXcChwOHApMFXSxLQanAs8kT1MG6S6Pv/W++2sH30nwYhYBawCkHQa8KmI+KCkm4FzgHXAecAtOcRpFTPIq1R6mbZZr4q4YuQC4JOStpHsI7yygGmYmeUil5OlI+IfgX9M3z8CnJzHeM3AlZ8Vy9cOm1mj+bK5Cut131pVKqaqxGHWDSfBHFTlSOmajZOcgMx65OawmTWaK8E+VKXy66Tf2FxBWlEkLSQ5h3gC8JWIWD3i+8nAtcBvAT8BPhAR29PvVpHcf+Bl4KMRccdY45S0HPg48HrgyIjYM158rgTNrDCSJgCXAWcBJwDnSjphRG9LgWfSm65cQnITFtL+lgBvBBYCl6d3rRprnP8HeAfwWLcxuhI0oHMF6eqw/irQajkZ2JaeOoekdcBi4IG2fhYD/yN9vx5Yk96MZTGwLiJeBB5Nzz1unX7XcZwR8d20W9cBuhI0syxmtG6Ekr6Wjfh+DvB42+dON1V5tZ/0ctu9JBdajDZsN+PsmivBUVRgC1o6V4fWhT0RsaDsILJwJdiBE6BZbp4Ajm773OmmKq/2I2kiMIXkAMlow3Yzzq45CZpZke4Gjk0fu3EIyYGODSP62UBysxVIbr7y9YiItPsSSZMlzQeOBb7d5Ti71vjmsKu+3ow1v9xULk5d19OI2J+etnIHyeksV0XE/ZL+DNgaERtIbrJyXXrg42mSpEba300kB1H2Ax+JiJfh1VNhDhhn2v2jJDd6/jXgXkm3RcQfjRVj45OgmRUrIm4DbhvR7bNt738BvG+UYS8ELuxmnGn3LwFf6iW+RiXBsramWSukulQBI+N0ZZhNXZZ73TUiCea9Mg36x7180b5a/iC6jdnJMlHHZTwMfGDEzBptKCvBYdyidlst1fF/b1LFWMflM+xcCZpZow1NJTioLWzVq5E84qtqtVK3K1iqOh/tQLVMgoNcuar8IytK63+uw4+4FWPZy6kO88o6c3PYzBqtlpXgIJRdWVRBHStCGNyyq8N8sfG5EjSzRqtNJeitbnnaKysvBxs2rgTNrNH6rgQlHU3ycJRZQABrI+JSSUcANwLzgO3A+yPimV7H74qjvjrtkxvk8iz65Guvm8MlS3N4P7AiIr4j6VeBeyRtAj4M3BURqyWtBFYCF3Q70jJXMB8MGV+/82iYr3ipgm7m7+YVAwikhvpuDkfEzoj4Tvr+eeBBkvv8LwauSXu7Bjg7a5BmZkXJ5cCIpHnAm4EtwKyI2Jl+tYukudxpmGXAMoDJ0+bW9jZXlq9BnpbT6xUoZayjXj+Ll/nAiKTXAV8FPh4Rz7V/l94iOzoNFxFrI2JBRCw45LXTs4ZhZtaXTJWgpEkkCfD6iPha2vlJSbMjYqek2cDurEHmyVvWeijrtBzvk26eLEeHRfJsgAcj4uK2r1oPTVmd/r0lU4Q5q8q1ptY8XueqKUsl+HbgQ8APJH0v7fZpkuR3k6SlwGPA+7OFaGZWnL6TYER8E9AoX5/R73iL5C1xPVXtYEU3vK7Vh68YMbNGq8S1wzOnRCEPE/LWePhV7U43Xufqp1KVYF4r0PJF+7wyNkzZy9vrXH1VKgmamQ1aJZrDefLWuLlGLvuqNJGt2lwJmlmj1b4SdOVnoyn6qhOve8PBlaCZNZqToDWCj97aaCrRHN69V96JbQOR59UnY/XvhFsfrgTNrNFqnQS9tbU8eX1qplonQTOzrCqxT9CsKnzCdfPUMgm62WKD0u8NGtr79/pabW4Om1mj1aYS9NbU6spVYbW5EjSzRqtNJVhnee5cdyVRjk7z3QdNhkPlk2Bdf/RF/UDctDLLl5vDZtZola8EbXTdVJuuFovTz626Rj73es3GSV5GJXMlaGaNVtlKsG5bx6ruJO8UV93m7TBqXy4jl5GXz2C5EjSzRiusEpS0ELgUmAB8JSJWjzdM3baAVa3+xuPqMH9Ve/6xda+QJChpAnAZcCawA7hb0oaIeKBT/62Hr1fZsK/cPvUmH3k818TLYrCKag6fDGyLiEci4iVgHbC4oGmZmfVNEZH/SKVzgIUR8Ufp5w8Bb4uI5W39LAOWpR9PBO7LPZDezQD2lB0EjmMkx3GgfuP49Yg4spseJd2eTmc8eyJiYR+xVEZpR4cjYi2wFkDS1ohYUFYsLY7DcTiORN0TWy+Kag4/ARzd9nlu2s3MrFKKSoJ3A8dKmi/pEGAJsKGgaZmZ9a2Q5nBE7Je0HLiD5BSZqyLi/jEGWVtEHH1wHAdyHAdyHEOokAMjZmZ14StGzKzRnATNrNFKT4KSFkp6SNI2SSsHON2jJW2W9ICk+yV9LO1+hKRNkh5O/04bQCwTJH1X0q3p5/mStqTz5Mb04FLhJE2VtF7SDyU9KOnUQc8PSZ9Il8d9km6QdOig5oekqyTtlnRfW7eO/78SX0pjulfSWwqO4y/S5XKvpL+VNLXtu1VpHA9JemdecTRFqUmw7fK6s4ATgHMlnTCgye8HVkTECcApwEfSaa8E7oqIY4G70s9F+xjwYNvni4BLIuIY4Blg6QBigORa79sj4g3ASWlMA5sfkuYAHwUWRMSJJAfVljC4+XE1MPL8uNH+/7OAY9PXMuCKguPYBJwYEb8J/CuwCiBdZ5cAb0yHuTz9XVm3IqK0F3AqcEfb51XAqpJiuYXkWueHgNlpt9nAQwVPdy7Jj+t04FZAJFcDTOw0jwqMYwrwKOnBsrbuA5sfwBzgceAIkjMXbgXeOcj5AcwD7hvv/wf+Eji3U39FxDHiu/8EXJ++P+A3Q3JGxqlFry/D9Cq7Odxa6Vt2pN0GStI84M3AFmBWROxMv9oFzCp48l8EzgdeST9PB56NiP3p50HNk/nAU8Bfp03zr0h6LQOcHxHxBPB54MfATmAvcA/lzI+W0f7/MtfdPwT+vgJxDIWyk2DpJL0O+Crw8Yh4rv27SDathZ1DJOndwO6IuKeoafRgIvAW4IqIeDPwAiOavgOYH9NIbrQxHzgKeC0HNwtLU/T/3w1JnyHZlXN9mXEMk7KTYKmX10maRJIAr4+Ir6Wdn5Q0O/1+NrC7wBDeDrxX0naSO+2cTrJfbqqk1onsg5onO4AdEbEl/byeJCkOcn68A3g0Ip6KiH3A10jmURnzo2W0/3/g666kDwPvBj6YJuRS4hg2ZSfB0i6vkyTgSuDBiLi47asNwHnp+/NI9hUWIiJWRcTciJhH8r9/PSI+CGwGzhlEDG2x7AIel3R82ukM4AEGOD9ImsGnSDosXT6tGAY+P9qM9v9vAP5zepT4FGBvW7M5d0puUnw+8N6I+NmI+JZImixpPsmBmm8XFcdQKnunJPAukqNdPwI+M8Dp/nuSps29wPfS17tI9sndBTwM3AkcMaB4TgNuTd//G5IVeRtwMzB5QDG8CdiazpO/A6YNen4A/xP4Icmt1a4DJg9qfgA3kOyL3EdSGS8d7f8nOYB1Wbre/oDkiHaRcWwj2ffXWle/3Nb/Z9I4HgLOGsS6MkwvXzZnZo1WdnPYzKxUToJm1mhOgmbWaE6CZtZoToJm1mhOgmbWaE6CZtZo/x9K9l1GcksRRgAAAABJRU5ErkJggg\u003d\u003d\n"
          },
          "metadata": {
            "needs_background": "light"
          },
          "output_type": "display_data"
        }
      ],
      "source": "# create the candidate true K field realisations to choose as the ground truth\n# well location\nwpt \u003d ((64+0.5), 128 - ((64 + 0.5))) # Well location\n# perform the DS simulation to create the reference K field\ntrueKList \u003d dsi.deesseRun(deesse_input_true)\ntrueK     \u003d trueKList[\"sim\"]\ntrueK     \u003d img.gatherImages(trueK,varInd\u003d0)\n# plot the created reference image\nimgplt.drawImage2D(trueK,categCol\u003dcol,categ\u003dTrue,title\u003d\"Reference\")\nplt.plot(wpt[0],wpt[1],\u0027k^:\u0027,markersize\u003d12)\n# write the reference as a GSLIB file\nimg.writeImageGslib(trueK,filename\u003d (\"results/GSLIB/128*128/trueK.gslib\"))\n",
      "metadata": {
        "pycharm": {
          "metadata": false,
          "name": "#%%\n",
          "is_executing": false
        }
      }
    },
    {
      "cell_type": "markdown",
      "source": "##  Perform the MPS Simulations \n",
      "metadata": {
        "pycharm": {
          "metadata": false
        }
      }
    },
    {
      "cell_type": "code",
      "execution_count": null,
      "outputs": [],
      "source": "# Do DS simulations to create \n# --------------------\ndoSimul\u003dFalse\n\nif doSimul:\n    simKList  \u003d dsi.deesseRun(deesse_input_realisations)\n    simK      \u003d simKList[\"sim\"]\n    simK      \u003d img.gatherImages(simK)\n    img.writeImageGslib(simK,filename\u003d (\"results/GSLIB/128*128/simKAll.gslib\"))\n\n    # Write the simulations in seperate GSLIB files\n    for i in range(simK.val.shape[0]):\n        temp_simK \u003d img.copyImg(simK)\n        temp_simK.remove_allvar()\n        temp_simK.append_var(simK.val[i,:,:,:])\n        img.writeImageGslib(temp_simK,\n                            filename\u003d\"results/GSLIB/128*128/realisations/real_%05.d.gslib\" % i)\nelse:\n    # Import the fields\n    trueK_filename \u003d \u0027results/GSLIB/128*128/trueK.gslib\u0027\n    simK_filename  \u003d \u0027results/GSLIB/128*128/simKAll.gslib\u0027\n    trueK \u003d img.readImageGslib(trueK_filename, missing_value\u003dMPDS_MISSING_VALUE)\n    simK  \u003d img.readImageGslib(simK_filename, missing_value\u003dMPDS_MISSING_VALUE)\n",
      "metadata": {
        "pycharm": {
          "metadata": false,
          "name": "#%%\n",
          "is_executing": true
        }
      }
    },
    {
      "cell_type": "code",
      "execution_count": null,
      "outputs": [],
      "source": "import time, sys\nfrom IPython.display import clear_output\n\ndef update_progress(progress):\n    bar_length \u003d 30\n    if isinstance(progress, int):\n        progress \u003d float(progress)\n    if not isinstance(progress, float):\n        progress \u003d 0\n    if progress \u003c 0:\n        progress \u003d 0\n    if progress \u003e\u003d 1:\n        progress \u003d 1\n\n    block \u003d int(round(bar_length * progress))\n\n    clear_output(wait \u003d True)\n    text \u003d \"Progress: [{0}] {1:.1f}%\".format( \"#\" * block + \"-\" * (bar_length - block), progress * 100)\n    print(text)\n\n\n\n##  Perform flow Simulations and Save ",
      "metadata": {
        "pycharm": {
          "metadata": false,
          "name": "#%%\n",
          "is_executing": true
        }
      }
    },
    {
      "cell_type": "code",
      "execution_count": null,
      "outputs": [],
      "source": "if doSimul:\n    # flow simulation for the reference parmater field\n    flow_trueK \u003d img.copyImg(trueK)\n    flow_trueK.remove_allvar()\n    flow_trueK.append_var(fwReal.flowSimforReals(0,trueK))\n    # flow_trueK.append_var(fwReal.flowSimforReals(i,trueK,pumpRate\u003dpumping_rate))\n\n    img.writeImageGslib(flow_trueK,filename\u003d\"results/GSLIB/128*128/flow_trueK.gslib\" )\n\n    \n    # flow simulations for realisations\n    for i in range(simK.val.shape[0]):\n        flow_simK \u003d img.copyImg(simK)\n        flow_simK.remove_allvar()\n        flow_simK.append_var(fwReal.flowSimforReals(i,simK))\n        img.writeImageGslib(flow_simK,\n                            filename\u003d\"results/GSLIB/128*128/flowRealisations/flow_%05.d.gslib\" % i)\n        update_progress(i / simK.val.shape[0])\nelse:\n    flow_trueK_filename \u003d \u0027results/GSLIB/flow_trueK.gslib\u0027\n    flow_simK_filename  \u003d \u0027results/GSLIB/flow_simK.gslib\u0027\n    flow_trueK \u003d img.readImageGslib(flow_trueK_filename, missing_value\u003dmissing_value)\n    flow_simK  \u003d img.readImageGslib(flow_simK_filename, missing_value\u003dmissing_value)\n\n\n",
      "metadata": {
        "pycharm": {
          "metadata": false,
          "name": "#%%\n",
          "is_executing": true
        }
      }
    }
  ],
  "metadata": {
    "kernelspec": {
      "name": "python3",
      "language": "python",
      "display_name": "Python 3"
    },
    "language_info": {
      "codemirror_mode": {
        "name": "ipython",
        "version": 2
      },
      "file_extension": ".py",
      "mimetype": "text/x-python",
      "name": "python",
      "nbconvert_exporter": "python",
      "pygments_lexer": "ipython2",
      "version": "2.7.6"
    }
  },
  "nbformat": 4,
  "nbformat_minor": 0
}